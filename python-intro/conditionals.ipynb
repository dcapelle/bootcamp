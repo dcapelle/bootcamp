{
 "metadata": {
  "name": ""
 },
 "nbformat": 3,
 "nbformat_minor": 0,
 "worksheets": [
  {
   "cells": [
    {
     "cell_type": "code",
     "collapsed": false,
     "input": [
      "import colors\n",
      "from ipythonblocks import ImageGrid"
     ],
     "language": "python",
     "metadata": {},
     "outputs": [],
     "prompt_number": 1
    },
    {
     "cell_type": "code",
     "collapsed": false,
     "input": [
      "row = ImageGrid(6,1)\n",
      "row[1,0] = colors.ORCHID\n",
      "row[5, 0] = colors.ORCHID\n",
      "row.show()"
     ],
     "language": "python",
     "metadata": {},
     "outputs": [
      {
       "html": [
        "<style type=\"text/css\">table.blockgrid {border: none;} .blockgrid tr {border: none;} .blockgrid td {padding: 0px;} #blocks0eca3f22-b2e8-4283-bf09-bec24cc47366 td {border: 1px solid white;}</style><table id=\"blocks0eca3f22-b2e8-4283-bf09-bec24cc47366\" class=\"blockgrid\"><tbody><tr><td title=\"Index: [0, 0]&#10;Color: (0, 0, 0)\" style=\"width: 20px; height: 20px;background-color: rgb(0, 0, 0);\"></td><td title=\"Index: [1, 0]&#10;Color: (218, 112, 214)\" style=\"width: 20px; height: 20px;background-color: rgb(218, 112, 214);\"></td><td title=\"Index: [2, 0]&#10;Color: (0, 0, 0)\" style=\"width: 20px; height: 20px;background-color: rgb(0, 0, 0);\"></td><td title=\"Index: [3, 0]&#10;Color: (0, 0, 0)\" style=\"width: 20px; height: 20px;background-color: rgb(0, 0, 0);\"></td><td title=\"Index: [4, 0]&#10;Color: (0, 0, 0)\" style=\"width: 20px; height: 20px;background-color: rgb(0, 0, 0);\"></td><td title=\"Index: [5, 0]&#10;Color: (218, 112, 214)\" style=\"width: 20px; height: 20px;background-color: rgb(218, 112, 214);\"></td></tr></tbody></table>"
       ],
       "metadata": {},
       "output_type": "display_data",
       "text": [
        "<IPython.core.display.HTML at 0x1da7048>"
       ]
      }
     ],
     "prompt_number": 2
    },
    {
     "cell_type": "code",
     "collapsed": false,
     "input": [
      "for number in range(-2,3):\n",
      "    if number < 0 :\n",
      "        print 'less than zero'\n",
      "    elif number == 0:\n",
      "        print 'zero'\n",
      "    else: \n",
      "        print 'must be positive'"
     ],
     "language": "python",
     "metadata": {},
     "outputs": [
      {
       "output_type": "stream",
       "stream": "stdout",
       "text": [
        "less than zero\n",
        "less than zero\n",
        "zero\n",
        "must be positive\n",
        "must be positive\n"
       ]
      }
     ],
     "prompt_number": 3
    },
    {
     "cell_type": "code",
     "collapsed": false,
     "input": [
      "def invert(grid):\n",
      "    result = ImageGrid(grid.width, grid.height)\n",
      "    for x in range(grid.width):\n",
      "        if grid[x,0].rgb == colors.BLACK:\n",
      "            result[x,0] = colors.ORCHID\n",
      "        else:\n",
      "            result[x,0] = colors.BLACK\n",
      "    return result"
     ],
     "language": "python",
     "metadata": {},
     "outputs": [],
     "prompt_number": 14
    },
    {
     "cell_type": "code",
     "collapsed": false,
     "input": [
      "invert(row)"
     ],
     "language": "python",
     "metadata": {},
     "outputs": [],
     "prompt_number": 12
    },
    {
     "cell_type": "code",
     "collapsed": false,
     "input": [
      "row.show()"
     ],
     "language": "python",
     "metadata": {},
     "outputs": [
      {
       "html": [
        "<style type=\"text/css\">table.blockgrid {border: none;} .blockgrid tr {border: none;} .blockgrid td {padding: 0px;} #blocksb7555b10-c078-4575-a9a2-e2d2454ebe13 td {border: 1px solid white;}</style><table id=\"blocksb7555b10-c078-4575-a9a2-e2d2454ebe13\" class=\"blockgrid\"><tbody><tr><td title=\"Index: [0, 0]&#10;Color: (218, 112, 214)\" style=\"width: 20px; height: 20px;background-color: rgb(218, 112, 214);\"></td><td title=\"Index: [1, 0]&#10;Color: (0, 0, 0)\" style=\"width: 20px; height: 20px;background-color: rgb(0, 0, 0);\"></td><td title=\"Index: [2, 0]&#10;Color: (218, 112, 214)\" style=\"width: 20px; height: 20px;background-color: rgb(218, 112, 214);\"></td><td title=\"Index: [3, 0]&#10;Color: (218, 112, 214)\" style=\"width: 20px; height: 20px;background-color: rgb(218, 112, 214);\"></td><td title=\"Index: [4, 0]&#10;Color: (218, 112, 214)\" style=\"width: 20px; height: 20px;background-color: rgb(218, 112, 214);\"></td><td title=\"Index: [5, 0]&#10;Color: (0, 0, 0)\" style=\"width: 20px; height: 20px;background-color: rgb(0, 0, 0);\"></td></tr></tbody></table>"
       ],
       "metadata": {},
       "output_type": "display_data",
       "text": [
        "<IPython.core.display.HTML at 0x603bba8>"
       ]
      }
     ],
     "prompt_number": 13
    },
    {
     "cell_type": "code",
     "collapsed": false,
     "input": [
      "new_row = ImageGrid(8, 1)\n",
      "new_row[4, 0] = colors.ORCHID\n",
      "new_row.show()\n",
      "inverted = invert(new_row)\n",
      "inverted.show()"
     ],
     "language": "python",
     "metadata": {},
     "outputs": [
      {
       "html": [
        "<style type=\"text/css\">table.blockgrid {border: none;} .blockgrid tr {border: none;} .blockgrid td {padding: 0px;} #blocks468dc311-7dde-4b9c-87aa-f130da2be27f td {border: 1px solid white;}</style><table id=\"blocks468dc311-7dde-4b9c-87aa-f130da2be27f\" class=\"blockgrid\"><tbody><tr><td title=\"Index: [0, 0]&#10;Color: (0, 0, 0)\" style=\"width: 20px; height: 20px;background-color: rgb(0, 0, 0);\"></td><td title=\"Index: [1, 0]&#10;Color: (0, 0, 0)\" style=\"width: 20px; height: 20px;background-color: rgb(0, 0, 0);\"></td><td title=\"Index: [2, 0]&#10;Color: (0, 0, 0)\" style=\"width: 20px; height: 20px;background-color: rgb(0, 0, 0);\"></td><td title=\"Index: [3, 0]&#10;Color: (0, 0, 0)\" style=\"width: 20px; height: 20px;background-color: rgb(0, 0, 0);\"></td><td title=\"Index: [4, 0]&#10;Color: (218, 112, 214)\" style=\"width: 20px; height: 20px;background-color: rgb(218, 112, 214);\"></td><td title=\"Index: [5, 0]&#10;Color: (0, 0, 0)\" style=\"width: 20px; height: 20px;background-color: rgb(0, 0, 0);\"></td><td title=\"Index: [6, 0]&#10;Color: (0, 0, 0)\" style=\"width: 20px; height: 20px;background-color: rgb(0, 0, 0);\"></td><td title=\"Index: [7, 0]&#10;Color: (0, 0, 0)\" style=\"width: 20px; height: 20px;background-color: rgb(0, 0, 0);\"></td></tr></tbody></table>"
       ],
       "metadata": {},
       "output_type": "display_data",
       "text": [
        "<IPython.core.display.HTML at 0x60cb2e8>"
       ]
      },
      {
       "html": [
        "<style type=\"text/css\">table.blockgrid {border: none;} .blockgrid tr {border: none;} .blockgrid td {padding: 0px;} #blocksaf9922d8-dccc-47da-aba4-b35aef8bad74 td {border: 1px solid white;}</style><table id=\"blocksaf9922d8-dccc-47da-aba4-b35aef8bad74\" class=\"blockgrid\"><tbody><tr><td title=\"Index: [0, 0]&#10;Color: (218, 112, 214)\" style=\"width: 20px; height: 20px;background-color: rgb(218, 112, 214);\"></td><td title=\"Index: [1, 0]&#10;Color: (218, 112, 214)\" style=\"width: 20px; height: 20px;background-color: rgb(218, 112, 214);\"></td><td title=\"Index: [2, 0]&#10;Color: (218, 112, 214)\" style=\"width: 20px; height: 20px;background-color: rgb(218, 112, 214);\"></td><td title=\"Index: [3, 0]&#10;Color: (218, 112, 214)\" style=\"width: 20px; height: 20px;background-color: rgb(218, 112, 214);\"></td><td title=\"Index: [4, 0]&#10;Color: (0, 0, 0)\" style=\"width: 20px; height: 20px;background-color: rgb(0, 0, 0);\"></td><td title=\"Index: [5, 0]&#10;Color: (218, 112, 214)\" style=\"width: 20px; height: 20px;background-color: rgb(218, 112, 214);\"></td><td title=\"Index: [6, 0]&#10;Color: (218, 112, 214)\" style=\"width: 20px; height: 20px;background-color: rgb(218, 112, 214);\"></td><td title=\"Index: [7, 0]&#10;Color: (218, 112, 214)\" style=\"width: 20px; height: 20px;background-color: rgb(218, 112, 214);\"></td></tr></tbody></table>"
       ],
       "metadata": {},
       "output_type": "display_data",
       "text": [
        "<IPython.core.display.HTML at 0x60cb2e8>"
       ]
      }
     ],
     "prompt_number": 16
    },
    {
     "cell_type": "code",
     "collapsed": false,
     "input": [
      "def color_from_string(grid,data):  #this is the command to make a new function\n",
      "    \"\"\"Color grid cells red and green according to 'R and G' in data.\n",
      "    \"\"\"\n",
      "    assert len(data) ==grid.width, 'Grid and string length do not match'\n",
      "    for x in range(grid.width):\n",
      "        assert data[x] in 'RG', 'Unknown character in data string' #check the input data to make sure it only contains recognized characters\n",
      "        if data[x] == 'R':\n",
      "            grid[x, 0] = colors.RED\n",
      "        else:\n",
      "            grid[x,0] = colors.GREEN"
     ],
     "language": "python",
     "metadata": {},
     "outputs": [],
     "prompt_number": 33
    },
    {
     "cell_type": "code",
     "collapsed": false,
     "input": [
      "grid = ImageGrid(4,1)\n",
      "data = 'RGRG'\n",
      "color_from_string(grid, data)\n",
      "grid.show()"
     ],
     "language": "python",
     "metadata": {},
     "outputs": [
      {
       "html": [
        "<style type=\"text/css\">table.blockgrid {border: none;} .blockgrid tr {border: none;} .blockgrid td {padding: 0px;} #blocks96432b1b-360a-49d9-acad-4fde963c04b6 td {border: 1px solid white;}</style><table id=\"blocks96432b1b-360a-49d9-acad-4fde963c04b6\" class=\"blockgrid\"><tbody><tr><td title=\"Index: [0, 0]&#10;Color: (255, 0, 0)\" style=\"width: 20px; height: 20px;background-color: rgb(255, 0, 0);\"></td><td title=\"Index: [1, 0]&#10;Color: (0, 255, 0)\" style=\"width: 20px; height: 20px;background-color: rgb(0, 255, 0);\"></td><td title=\"Index: [2, 0]&#10;Color: (255, 0, 0)\" style=\"width: 20px; height: 20px;background-color: rgb(255, 0, 0);\"></td><td title=\"Index: [3, 0]&#10;Color: (0, 255, 0)\" style=\"width: 20px; height: 20px;background-color: rgb(0, 255, 0);\"></td></tr></tbody></table>"
       ],
       "metadata": {},
       "output_type": "display_data",
       "text": [
        "<IPython.core.display.HTML at 0x60d3828>"
       ]
      }
     ],
     "prompt_number": 31
    },
    {
     "cell_type": "code",
     "collapsed": false,
     "input": [
      "color_from_string(grid, 'RG')"
     ],
     "language": "python",
     "metadata": {},
     "outputs": [
      {
       "ename": "AssertionError",
       "evalue": "Grid and string length do not match",
       "output_type": "pyerr",
       "traceback": [
        "\u001b[1;31m---------------------------------------------------------------------------\u001b[0m\n\u001b[1;31mAssertionError\u001b[0m                            Traceback (most recent call last)",
        "\u001b[1;32m<ipython-input-32-84f08fb7fffe>\u001b[0m in \u001b[0;36m<module>\u001b[1;34m()\u001b[0m\n\u001b[1;32m----> 1\u001b[1;33m \u001b[0mcolor_from_string\u001b[0m\u001b[1;33m(\u001b[0m\u001b[0mgrid\u001b[0m\u001b[1;33m,\u001b[0m \u001b[1;34m'RG'\u001b[0m\u001b[1;33m)\u001b[0m\u001b[1;33m\u001b[0m\u001b[0m\n\u001b[0m",
        "\u001b[1;32m<ipython-input-27-283c0461a102>\u001b[0m in \u001b[0;36mcolor_from_string\u001b[1;34m(grid, data)\u001b[0m\n\u001b[0;32m      1\u001b[0m \u001b[1;32mdef\u001b[0m \u001b[0mcolor_from_string\u001b[0m\u001b[1;33m(\u001b[0m\u001b[0mgrid\u001b[0m\u001b[1;33m,\u001b[0m\u001b[0mdata\u001b[0m\u001b[1;33m)\u001b[0m\u001b[1;33m:\u001b[0m  \u001b[1;31m#this is the command to make a new function\u001b[0m\u001b[1;33m\u001b[0m\u001b[0m\n\u001b[1;32m----> 2\u001b[1;33m     \u001b[1;32massert\u001b[0m \u001b[0mlen\u001b[0m\u001b[1;33m(\u001b[0m\u001b[0mdata\u001b[0m\u001b[1;33m)\u001b[0m \u001b[1;33m==\u001b[0m\u001b[0mgrid\u001b[0m\u001b[1;33m.\u001b[0m\u001b[0mwidth\u001b[0m\u001b[1;33m,\u001b[0m \u001b[1;34m'Grid and string length do not match'\u001b[0m\u001b[1;33m\u001b[0m\u001b[0m\n\u001b[0m\u001b[0;32m      3\u001b[0m     \u001b[1;32mfor\u001b[0m \u001b[0mx\u001b[0m \u001b[1;32min\u001b[0m \u001b[0mrange\u001b[0m\u001b[1;33m(\u001b[0m\u001b[0mgrid\u001b[0m\u001b[1;33m.\u001b[0m\u001b[0mwidth\u001b[0m\u001b[1;33m)\u001b[0m\u001b[1;33m:\u001b[0m\u001b[1;33m\u001b[0m\u001b[0m\n\u001b[0;32m      4\u001b[0m         \u001b[1;32massert\u001b[0m \u001b[0mdata\u001b[0m\u001b[1;33m[\u001b[0m\u001b[0mx\u001b[0m\u001b[1;33m]\u001b[0m \u001b[1;32min\u001b[0m \u001b[1;34m'RG'\u001b[0m\u001b[1;33m,\u001b[0m \u001b[1;34m'Unknown character in data string'\u001b[0m \u001b[1;31m#check the input data to make sure it only contains recognized characters\u001b[0m\u001b[1;33m\u001b[0m\u001b[0m\n\u001b[0;32m      5\u001b[0m         \u001b[1;32mif\u001b[0m \u001b[0mdata\u001b[0m\u001b[1;33m[\u001b[0m\u001b[0mx\u001b[0m\u001b[1;33m]\u001b[0m \u001b[1;33m==\u001b[0m \u001b[1;34m'R'\u001b[0m\u001b[1;33m:\u001b[0m\u001b[1;33m\u001b[0m\u001b[0m\n",
        "\u001b[1;31mAssertionError\u001b[0m: Grid and string length do not match"
       ]
      }
     ],
     "prompt_number": 32
    },
    {
     "cell_type": "code",
     "collapsed": false,
     "input": [],
     "language": "python",
     "metadata": {},
     "outputs": []
    }
   ],
   "metadata": {}
  }
 ]
}