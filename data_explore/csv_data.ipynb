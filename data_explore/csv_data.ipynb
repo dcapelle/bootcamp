{
 "metadata": {
  "name": ""
 },
 "nbformat": 3,
 "nbformat_minor": 0,
 "worksheets": [
  {
   "cells": [
    {
     "cell_type": "code",
     "collapsed": false,
     "input": [
      "import numpy as np"
     ],
     "language": "python",
     "metadata": {},
     "outputs": [],
     "prompt_number": 1
    },
    {
     "cell_type": "code",
     "collapsed": false,
     "input": [
      "!head -20 eng-hourly-08012013-08312013.csv"
     ],
     "language": "python",
     "metadata": {},
     "outputs": [
      {
       "output_type": "stream",
       "stream": "stdout",
       "text": [
        "\"Station Name\",\"VANCOUVER INTL A\"\n",
        "\"Province\",\"BRITISH COLUMBIA\"\n",
        "\"Latitude\",\"49.19\"\n",
        "\"Longitude\",\"-123.18\"\n",
        "\"Elevation\",\"4.30\"\n",
        "\"Climate Identifier\",\"1108395\"\n",
        "\"WMO Identifier\",\"71892\"\n",
        "\"TC Identifier\",\"YVR\"\n",
        "\"All times are specified in Local Standard Time (LST). Add 1 hour to adjust for Daylight Saving Time where and when it is observed.\"\n",
        "\n",
        "\"Legend\"\n",
        "\"M\",\"Missing\"\n",
        "\"E\",\"Estimated\"\n",
        "\"NA\",\"Not Available\"\n",
        "\"**\",\"Partner data that is not subject to review by the National Climate Archives\"\n",
        "\n",
        "\"Date/Time\",\"Year\",\"Month\",\"Day\",\"Time\",\"Data Quality\",\"Temp (\u00b0C)\",\"Temp Flag\",\"Dew Point Temp (\u00b0C)\",\"Dew Point Temp Flag\",\"Rel Hum (%)\",\"Rel Hum Flag\",\"Wind Dir (10s deg)\",\"Wind Dir Flag\",\"Wind Spd (km/h)\",\"Wind Spd Flag\",\"Visibility (km)\",\"Visibility Flag\",\"Stn Press (kPa)\",\"Stn Press Flag\",\"Hmdx\",\"Hmdx Flag\",\"Wind Chill\",\"Wind Chill Flag\",\"Weather\"\n",
        "\"2013-08-01 00:00\",\"2013\",\"08\",\"01\",\"00:00\",\"**\",\"18.7\",\"\",\"14.6\",\"\",\"77\",\"\",\"13\",\"\",\"3\",\"\",\"32.2\",\"\",\"101.60\",\"\",\"\",\"\",\"\",\"\",\"Rain\"\n",
        "\"2013-08-01 01:00\",\"2013\",\"08\",\"01\",\"01:00\",\"**\",\"18.4\",\"\",\"15.1\",\"\",\"81\",\"\",\"1\",\"\",\"5\",\"\",\"32.2\",\"\",\"101.57\",\"\",\"\",\"\",\"\",\"\",\"Cloudy\"\n",
        "\"2013-08-01 02:00\",\"2013\",\"08\",\"01\",\"02:00\",\"**\",\"17.8\",\"\",\"16.0\",\"\",\"89\",\"\",\"18\",\"\",\"9\",\"\",\"24.1\",\"\",\"101.57\",\"\",\"\",\"\",\"\",\"\",\"Rain\"\n"
       ]
      }
     ],
     "prompt_number": 2
    },
    {
     "cell_type": "code",
     "collapsed": false,
     "input": [
      "data = np.genfromtxt('eng-hourly-08012013-08312013.csv', delimiter = '\",\"',skiprows=16) #need to use wierd combo of quotes around delimiter"
     ],
     "language": "python",
     "metadata": {},
     "outputs": [],
     "prompt_number": 6
    },
    {
     "cell_type": "code",
     "collapsed": false,
     "input": [
      "data[-1]"
     ],
     "language": "python",
     "metadata": {},
     "outputs": [
      {
       "metadata": {},
       "output_type": "pyout",
       "prompt_number": 7,
       "text": [
        "array([     nan,  2013.  ,     8.  ,    31.  ,      nan,      nan,\n",
        "          15.5 ,      nan,    14.6 ,      nan,    94.  ,      nan,\n",
        "          34.  ,      nan,    10.  ,      nan,    32.2 ,      nan,\n",
        "         101.02,      nan,      nan,      nan,      nan,      nan,      nan])"
       ]
      }
     ],
     "prompt_number": 7
    },
    {
     "cell_type": "code",
     "collapsed": false,
     "input": [
      "!tail -1 eng-hourly-08012013-08312013.csv"
     ],
     "language": "python",
     "metadata": {},
     "outputs": [
      {
       "output_type": "stream",
       "stream": "stdout",
       "text": [
        "\"2013-08-31 23:00\",\"2013\",\"08\",\"31\",\"23:00\",\"**\",\"15.5\",\"\",\"14.6\",\"\",\"94\",\"\",\"34\",\"\",\"10\",\"\",\"32.2\",\"\",\"101.02\",\"\",\"\",\"\",\"\",\"\",\"NA\"\n"
       ]
      }
     ],
     "prompt_number": 8
    },
    {
     "cell_type": "code",
     "collapsed": false,
     "input": [
      "data.dtype"
     ],
     "language": "python",
     "metadata": {},
     "outputs": [
      {
       "metadata": {},
       "output_type": "pyout",
       "prompt_number": 9,
       "text": [
        "dtype('float64')"
       ]
      }
     ],
     "prompt_number": 9
    },
    {
     "cell_type": "code",
     "collapsed": false,
     "input": [
      "data = np.genfromtxt('eng-hourly-08012013-08312013.csv', delimiter = '\",\"',skiprows=15, names=True) #need to use wierd combo of quotes around delimiter"
     ],
     "language": "python",
     "metadata": {},
     "outputs": [],
     "prompt_number": 10
    },
    {
     "cell_type": "code",
     "collapsed": false,
     "input": [
      "data.dtype"
     ],
     "language": "python",
     "metadata": {},
     "outputs": [
      {
       "metadata": {},
       "output_type": "pyout",
       "prompt_number": 11,
       "text": [
        "dtype([('DateTime', '<f8'), ('Year', '<f8'), ('Month', '<f8'), ('Day', '<f8'), ('Time', '<f8'), ('Data_Quality', '<f8'), ('Temp_\\xb0C', '<f8'), ('Temp_Flag', '<f8'), ('Dew_Point_Temp_\\xb0C', '<f8'), ('Dew_Point_Temp_Flag', '<f8'), ('Rel_Hum_', '<f8'), ('Rel_Hum_Flag', '<f8'), ('Wind_Dir_10s_deg', '<f8'), ('Wind_Dir_Flag', '<f8'), ('Wind_Spd_kmh', '<f8'), ('Wind_Spd_Flag', '<f8'), ('Visibility_km', '<f8'), ('Visibility_Flag', '<f8'), ('Stn_Press_kPa', '<f8'), ('Stn_Press_Flag', '<f8'), ('Hmdx', '<f8'), ('Hmdx_Flag', '<f8'), ('Wind_Chill', '<f8'), ('Wind_Chill_Flag', '<f8'), ('Weather', '<f8')])"
       ]
      }
     ],
     "prompt_number": 11
    },
    {
     "cell_type": "code",
     "collapsed": false,
     "input": [
      "data['Day']"
     ],
     "language": "python",
     "metadata": {},
     "outputs": [
      {
       "metadata": {},
       "output_type": "pyout",
       "prompt_number": 12,
       "text": [
        "array([  1.,   1.,   1.,   1.,   1.,   1.,   1.,   1.,   1.,   1.,   1.,\n",
        "         1.,   1.,   1.,   1.,   1.,   1.,   1.,   1.,   1.,   1.,   1.,\n",
        "         1.,   1.,   2.,   2.,   2.,   2.,   2.,   2.,   2.,   2.,   2.,\n",
        "         2.,   2.,   2.,   2.,   2.,   2.,   2.,   2.,   2.,   2.,   2.,\n",
        "         2.,   2.,   2.,   2.,   3.,   3.,   3.,   3.,   3.,   3.,   3.,\n",
        "         3.,   3.,   3.,   3.,   3.,   3.,   3.,   3.,   3.,   3.,   3.,\n",
        "         3.,   3.,   3.,   3.,   3.,   3.,   4.,   4.,   4.,   4.,   4.,\n",
        "         4.,   4.,   4.,   4.,   4.,   4.,   4.,   4.,   4.,   4.,   4.,\n",
        "         4.,   4.,   4.,   4.,   4.,   4.,   4.,   4.,   5.,   5.,   5.,\n",
        "         5.,   5.,   5.,   5.,   5.,   5.,   5.,   5.,   5.,   5.,   5.,\n",
        "         5.,   5.,   5.,   5.,   5.,   5.,   5.,   5.,   5.,   5.,   6.,\n",
        "         6.,   6.,   6.,   6.,   6.,   6.,   6.,   6.,   6.,   6.,   6.,\n",
        "         6.,   6.,   6.,   6.,   6.,   6.,   6.,   6.,   6.,   6.,   6.,\n",
        "         6.,   7.,   7.,   7.,   7.,   7.,   7.,   7.,   7.,   7.,   7.,\n",
        "         7.,   7.,   7.,   7.,   7.,   7.,   7.,   7.,   7.,   7.,   7.,\n",
        "         7.,   7.,   7.,   8.,   8.,   8.,   8.,   8.,   8.,   8.,   8.,\n",
        "         8.,   8.,   8.,   8.,   8.,   8.,   8.,   8.,   8.,   8.,   8.,\n",
        "         8.,   8.,   8.,   8.,   8.,   9.,   9.,   9.,   9.,   9.,   9.,\n",
        "         9.,   9.,   9.,   9.,   9.,   9.,   9.,   9.,   9.,   9.,   9.,\n",
        "         9.,   9.,   9.,   9.,   9.,   9.,   9.,  10.,  10.,  10.,  10.,\n",
        "        10.,  10.,  10.,  10.,  10.,  10.,  10.,  10.,  10.,  10.,  10.,\n",
        "        10.,  10.,  10.,  10.,  10.,  10.,  10.,  10.,  10.,  11.,  11.,\n",
        "        11.,  11.,  11.,  11.,  11.,  11.,  11.,  11.,  11.,  11.,  11.,\n",
        "        11.,  11.,  11.,  11.,  11.,  11.,  11.,  11.,  11.,  11.,  11.,\n",
        "        12.,  12.,  12.,  12.,  12.,  12.,  12.,  12.,  12.,  12.,  12.,\n",
        "        12.,  12.,  12.,  12.,  12.,  12.,  12.,  12.,  12.,  12.,  12.,\n",
        "        12.,  12.,  13.,  13.,  13.,  13.,  13.,  13.,  13.,  13.,  13.,\n",
        "        13.,  13.,  13.,  13.,  13.,  13.,  13.,  13.,  13.,  13.,  13.,\n",
        "        13.,  13.,  13.,  13.,  14.,  14.,  14.,  14.,  14.,  14.,  14.,\n",
        "        14.,  14.,  14.,  14.,  14.,  14.,  14.,  14.,  14.,  14.,  14.,\n",
        "        14.,  14.,  14.,  14.,  14.,  14.,  15.,  15.,  15.,  15.,  15.,\n",
        "        15.,  15.,  15.,  15.,  15.,  15.,  15.,  15.,  15.,  15.,  15.,\n",
        "        15.,  15.,  15.,  15.,  15.,  15.,  15.,  15.,  16.,  16.,  16.,\n",
        "        16.,  16.,  16.,  16.,  16.,  16.,  16.,  16.,  16.,  16.,  16.,\n",
        "        16.,  16.,  16.,  16.,  16.,  16.,  16.,  16.,  16.,  16.,  17.,\n",
        "        17.,  17.,  17.,  17.,  17.,  17.,  17.,  17.,  17.,  17.,  17.,\n",
        "        17.,  17.,  17.,  17.,  17.,  17.,  17.,  17.,  17.,  17.,  17.,\n",
        "        17.,  18.,  18.,  18.,  18.,  18.,  18.,  18.,  18.,  18.,  18.,\n",
        "        18.,  18.,  18.,  18.,  18.,  18.,  18.,  18.,  18.,  18.,  18.,\n",
        "        18.,  18.,  18.,  19.,  19.,  19.,  19.,  19.,  19.,  19.,  19.,\n",
        "        19.,  19.,  19.,  19.,  19.,  19.,  19.,  19.,  19.,  19.,  19.,\n",
        "        19.,  19.,  19.,  19.,  19.,  20.,  20.,  20.,  20.,  20.,  20.,\n",
        "        20.,  20.,  20.,  20.,  20.,  20.,  20.,  20.,  20.,  20.,  20.,\n",
        "        20.,  20.,  20.,  20.,  20.,  20.,  20.,  21.,  21.,  21.,  21.,\n",
        "        21.,  21.,  21.,  21.,  21.,  21.,  21.,  21.,  21.,  21.,  21.,\n",
        "        21.,  21.,  21.,  21.,  21.,  21.,  21.,  21.,  21.,  22.,  22.,\n",
        "        22.,  22.,  22.,  22.,  22.,  22.,  22.,  22.,  22.,  22.,  22.,\n",
        "        22.,  22.,  22.,  22.,  22.,  22.,  22.,  22.,  22.,  22.,  22.,\n",
        "        23.,  23.,  23.,  23.,  23.,  23.,  23.,  23.,  23.,  23.,  23.,\n",
        "        23.,  23.,  23.,  23.,  23.,  23.,  23.,  23.,  23.,  23.,  23.,\n",
        "        23.,  23.,  24.,  24.,  24.,  24.,  24.,  24.,  24.,  24.,  24.,\n",
        "        24.,  24.,  24.,  24.,  24.,  24.,  24.,  24.,  24.,  24.,  24.,\n",
        "        24.,  24.,  24.,  24.,  25.,  25.,  25.,  25.,  25.,  25.,  25.,\n",
        "        25.,  25.,  25.,  25.,  25.,  25.,  25.,  25.,  25.,  25.,  25.,\n",
        "        25.,  25.,  25.,  25.,  25.,  25.,  26.,  26.,  26.,  26.,  26.,\n",
        "        26.,  26.,  26.,  26.,  26.,  26.,  26.,  26.,  26.,  26.,  26.,\n",
        "        26.,  26.,  26.,  26.,  26.,  26.,  26.,  26.,  27.,  27.,  27.,\n",
        "        27.,  27.,  27.,  27.,  27.,  27.,  27.,  27.,  27.,  27.,  27.,\n",
        "        27.,  27.,  27.,  27.,  27.,  27.,  27.,  27.,  27.,  27.,  28.,\n",
        "        28.,  28.,  28.,  28.,  28.,  28.,  28.,  28.,  28.,  28.,  28.,\n",
        "        28.,  28.,  28.,  28.,  28.,  28.,  28.,  28.,  28.,  28.,  28.,\n",
        "        28.,  29.,  29.,  29.,  29.,  29.,  29.,  29.,  29.,  29.,  29.,\n",
        "        29.,  29.,  29.,  29.,  29.,  29.,  29.,  29.,  29.,  29.,  29.,\n",
        "        29.,  29.,  29.,  30.,  30.,  30.,  30.,  30.,  30.,  30.,  30.,\n",
        "        30.,  30.,  30.,  30.,  30.,  30.,  30.,  30.,  30.,  30.,  30.,\n",
        "        30.,  30.,  30.,  30.,  30.,  31.,  31.,  31.,  31.,  31.,  31.,\n",
        "        31.,  31.,  31.,  31.,  31.,  31.,  31.,  31.,  31.,  31.,  31.,\n",
        "        31.,  31.,  31.,  31.,  31.,  31.,  31.])"
       ]
      }
     ],
     "prompt_number": 12
    },
    {
     "cell_type": "code",
     "collapsed": false,
     "input": [
      "import datetime\n",
      "def fix_dtype(dtype):\n",
      "    \"\"\"create a corrected dtype sequence from an auto-generated one\n",
      "    \"\"\"\n",
      "    \n",
      "    new_dtype = []  #start with an empty list\n",
      "    for name, cdtype in dtype.descr:\n",
      "        int_cols = ('Year', 'Month', 'Day')  #list which columns you want to be integers\n",
      "        str_cols = ('Data_Quality', 'Weather')\n",
      "        if name in int_cols:    #if the name of the data column matches year, month or day, do the following\n",
      "            cdtype = np.int        #define the data as integers\n",
      "        if name in str_cols or name.endswith('_Flag'):\n",
      "            cdtype = (np.str, 30)\n",
      "        if name == 'DateTime':\n",
      "            cdtype = datetime.datetime\n",
      "        if name == 'Time':\n",
      "            cdtype = datetime.time\n",
      "        if name == 'Rel_Hum_':\n",
      "            name = 'Rel_Hum'\n",
      "        name = name.replace('/xb0', 'deg')  #replace wierd code for degree symbol with 'degC'\n",
      "        \n",
      "        new_dtype.append((name,cdtype))\n",
      "    return new_dtype\n",
      "\n",
      "def read_climate_file(filename):\n",
      "    \"\"\"Read an Environment Canada climate data CSV file and return its data.\n",
      "    \"\"\"\n",
      "    data = np.genfromtxt(filename, delimiter='\",\"', skiprows=15, names=True) \n",
      "    new_dtype = fix_dtype(data.dtype)\n",
      "    data = np.genfromtxt(filename, delimiter='\",\"', skiprows=16, dtype=new_dtype)\n",
      "    return data\n",
      "\n",
      "!tail -1 eng-hourly-08012013-08312013.csv\n",
      "print\n",
      "data=read_climate_file('eng-hourly-08012013-08312013.csv')\n",
      "print data[0]      #print the first row of data\n",
      "print data[-1]     #print the last row of data\n",
      "print                #print a blank line\n",
      "for x in data.dtype.descr:\n",
      "    print x  #display the dtype for each column\n",
      "    "
     ],
     "language": "python",
     "metadata": {},
     "outputs": [
      {
       "output_type": "stream",
       "stream": "stdout",
       "text": [
        "\"2013-08-31 23:00\",\"2013\",\"08\",\"31\",\"23:00\",\"**\",\"15.5\",\"\",\"14.6\",\"\",\"94\",\"\",\"34\",\"\",\"10\",\"\",\"32.2\",\"\",\"101.02\",\"\",\"\",\"\",\"\",\"\",\"NA\"\n",
        "\n",
        "('\"Date/Time', -1, -1, -1, 'Time', 'Data Quality', nan, 'Temp Flag', nan, 'Dew Point Temp Flag', nan, 'Rel Hum Flag', nan, 'Wind Dir Flag', nan, 'Wind Spd Flag', nan, 'Visibility Flag', nan, 'Stn Press Flag', nan, 'Hmdx Flag', nan, 'Wind Chill Flag', 'Weather\"')"
       ]
      },
      {
       "output_type": "stream",
       "stream": "stdout",
       "text": [
        "\n",
        "('\"2013-08-31 23:00', 2013, 8, 31, '23:00', '**', 15.5, '', 14.6, '', 94.0, '', 34.0, '', 10.0, '', 32.2, '', 101.02, '', nan, '', nan, '', 'NA\"')\n",
        "\n",
        "('DateTime', '|O8')\n",
        "('Year', '<i4')\n",
        "('Month', '<i4')\n",
        "('Day', '<i4')\n",
        "('Time', '|O8')\n",
        "('Data_Quality', '|S30')\n",
        "('Temp_\\xb0C', '<f8')\n",
        "('Temp_Flag', '|S30')\n",
        "('Dew_Point_Temp_\\xb0C', '<f8')\n",
        "('Dew_Point_Temp_Flag', '|S30')\n",
        "('Rel_Hum', '<f8')\n",
        "('Rel_Hum_Flag', '|S30')\n",
        "('Wind_Dir_10s_deg', '<f8')\n",
        "('Wind_Dir_Flag', '|S30')\n",
        "('Wind_Spd_kmh', '<f8')\n",
        "('Wind_Spd_Flag', '|S30')\n",
        "('Visibility_km', '<f8')\n",
        "('Visibility_Flag', '|S30')\n",
        "('Stn_Press_kPa', '<f8')\n",
        "('Stn_Press_Flag', '|S30')\n",
        "('Hmdx', '<f8')\n",
        "('Hmdx_Flag', '|S30')\n",
        "('Wind_Chill', '<f8')\n",
        "('Wind_Chill_Flag', '|S30')\n",
        "('Weather', '|S30')\n"
       ]
      }
     ],
     "prompt_number": 22
    },
    {
     "cell_type": "code",
     "collapsed": false,
     "input": [],
     "language": "python",
     "metadata": {},
     "outputs": []
    }
   ],
   "metadata": {}
  }
 ]
}